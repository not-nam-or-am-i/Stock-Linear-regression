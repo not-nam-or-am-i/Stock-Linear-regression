{
 "cells": [
  {
   "cell_type": "markdown",
   "metadata": {},
   "source": [
    "## Sử dụng thêm thuộc tính sư chênh lệch giá giữa 2 ngày liền nhau"
   ]
  },
  {
   "cell_type": "code",
   "execution_count": 1,
   "metadata": {},
   "outputs": [],
   "source": [
    "import numpy as np\n",
    "import pandas as pd\n",
    "import datetime\n",
    "\n",
    "%matplotlib inline\n",
    "import matplotlib.pyplot as plt\n",
    "import matplotlib.dates as mdates\n",
    "import seaborn as sns\n",
    "\n",
    "plt.style.use('seaborn-darkgrid')\n",
    "plt.rc('figure', figsize=(16,10))\n",
    "plt.rc('lines', markersize=4)\n",
    "\n",
    "import yfinance as yf\n",
    "\n",
    "from sklearn.linear_model import LinearRegression"
   ]
  },
  {
   "cell_type": "code",
   "execution_count": 2,
   "metadata": {},
   "outputs": [
    {
     "data": {
      "text/html": [
       "<div>\n",
       "<style scoped>\n",
       "    .dataframe tbody tr th:only-of-type {\n",
       "        vertical-align: middle;\n",
       "    }\n",
       "\n",
       "    .dataframe tbody tr th {\n",
       "        vertical-align: top;\n",
       "    }\n",
       "\n",
       "    .dataframe thead th {\n",
       "        text-align: right;\n",
       "    }\n",
       "</style>\n",
       "<table border=\"1\" class=\"dataframe\">\n",
       "  <thead>\n",
       "    <tr style=\"text-align: right;\">\n",
       "      <th></th>\n",
       "      <th>AAPL</th>\n",
       "      <th>GOOGL</th>\n",
       "      <th>MSFT</th>\n",
       "      <th>AMZN</th>\n",
       "      <th>FB</th>\n",
       "    </tr>\n",
       "    <tr>\n",
       "      <th>Date</th>\n",
       "      <th></th>\n",
       "      <th></th>\n",
       "      <th></th>\n",
       "      <th></th>\n",
       "      <th></th>\n",
       "    </tr>\n",
       "  </thead>\n",
       "  <tbody>\n",
       "    <tr>\n",
       "      <th>2018-12-31</th>\n",
       "      <td>157.740005</td>\n",
       "      <td>1044.959961</td>\n",
       "      <td>101.570000</td>\n",
       "      <td>1501.969971</td>\n",
       "      <td>131.089996</td>\n",
       "    </tr>\n",
       "    <tr>\n",
       "      <th>2019-01-02</th>\n",
       "      <td>157.919998</td>\n",
       "      <td>1054.680054</td>\n",
       "      <td>101.120003</td>\n",
       "      <td>1539.130005</td>\n",
       "      <td>135.679993</td>\n",
       "    </tr>\n",
       "    <tr>\n",
       "      <th>2019-01-03</th>\n",
       "      <td>142.190002</td>\n",
       "      <td>1025.469971</td>\n",
       "      <td>97.400002</td>\n",
       "      <td>1500.280029</td>\n",
       "      <td>131.740005</td>\n",
       "    </tr>\n",
       "    <tr>\n",
       "      <th>2019-01-04</th>\n",
       "      <td>148.259995</td>\n",
       "      <td>1078.069946</td>\n",
       "      <td>101.930000</td>\n",
       "      <td>1575.390015</td>\n",
       "      <td>137.949997</td>\n",
       "    </tr>\n",
       "    <tr>\n",
       "      <th>2019-01-07</th>\n",
       "      <td>147.929993</td>\n",
       "      <td>1075.920044</td>\n",
       "      <td>102.059998</td>\n",
       "      <td>1629.510010</td>\n",
       "      <td>138.050003</td>\n",
       "    </tr>\n",
       "  </tbody>\n",
       "</table>\n",
       "</div>"
      ],
      "text/plain": [
       "                  AAPL        GOOGL        MSFT         AMZN          FB\n",
       "Date                                                                    \n",
       "2018-12-31  157.740005  1044.959961  101.570000  1501.969971  131.089996\n",
       "2019-01-02  157.919998  1054.680054  101.120003  1539.130005  135.679993\n",
       "2019-01-03  142.190002  1025.469971   97.400002  1500.280029  131.740005\n",
       "2019-01-04  148.259995  1078.069946  101.930000  1575.390015  137.949997\n",
       "2019-01-07  147.929993  1075.920044  102.059998  1629.510010  138.050003"
      ]
     },
     "execution_count": 2,
     "metadata": {},
     "output_type": "execute_result"
    }
   ],
   "source": [
    "df = pd.read_csv('data/close_price_big_5.csv', index_col=['Date'], infer_datetime_format=True, parse_dates=['Date'])\n",
    "df.head()"
   ]
  },
  {
   "cell_type": "markdown",
   "metadata": {},
   "source": [
    "## lấy giá chênh lệch"
   ]
  },
  {
   "cell_type": "code",
   "execution_count": 43,
   "metadata": {},
   "outputs": [],
   "source": [
    "def get_diff(df, history=1):\n",
    "    diff = []\n",
    "    df = df.to_numpy()\n",
    "\n",
    "    for i in range(history, len(df)):\n",
    "        diff.append(df[i] - df[i-history])\n",
    "        \n",
    "    return np.array(diff)"
   ]
  },
  {
   "cell_type": "code",
   "execution_count": 45,
   "metadata": {},
   "outputs": [
    {
     "name": "stdout",
     "output_type": "stream",
     "text": [
      "(334, 5)\n"
     ]
    }
   ],
   "source": [
    "cr = get_diff(df)\n",
    "print(cr.shape)"
   ]
  },
  {
   "cell_type": "code",
   "execution_count": 46,
   "metadata": {},
   "outputs": [
    {
     "name": "stdout",
     "output_type": "stream",
     "text": [
      "<class 'numpy.ndarray'>\n"
     ]
    }
   ],
   "source": [
    "cr_aapl = get_diff(df['AAPL'])\n",
    "print(type(cr_aapl))"
   ]
  },
  {
   "cell_type": "code",
   "execution_count": 47,
   "metadata": {},
   "outputs": [
    {
     "name": "stdout",
     "output_type": "stream",
     "text": [
      "334\n"
     ]
    }
   ],
   "source": [
    "cr_msft = get_diff(df['MSFT'])\n",
    "print(len(cr_msft))"
   ]
  },
  {
   "cell_type": "code",
   "execution_count": 48,
   "metadata": {},
   "outputs": [
    {
     "name": "stdout",
     "output_type": "stream",
     "text": [
      "334\n"
     ]
    }
   ],
   "source": [
    "cr_fb = get_diff(df['FB'], history=1)\n",
    "print(len(cr_fb))"
   ]
  },
  {
   "cell_type": "code",
   "execution_count": 49,
   "metadata": {},
   "outputs": [
    {
     "name": "stdout",
     "output_type": "stream",
     "text": [
      "334\n"
     ]
    }
   ],
   "source": [
    "cr_googl = get_diff(df['GOOGL'], history=1)\n",
    "print(len(cr_googl))"
   ]
  },
  {
   "cell_type": "code",
   "execution_count": 50,
   "metadata": {},
   "outputs": [
    {
     "name": "stdout",
     "output_type": "stream",
     "text": [
      "<class 'numpy.ndarray'>\n"
     ]
    }
   ],
   "source": [
    "cr_amzn = get_diff(df['AMZN'], history=1)\n",
    "print(type(cr_amzn))"
   ]
  },
  {
   "cell_type": "code",
   "execution_count": 51,
   "metadata": {},
   "outputs": [
    {
     "name": "stdout",
     "output_type": "stream",
     "text": [
      "(334, 1)\n"
     ]
    }
   ],
   "source": [
    "cr_aapl = np.array(cr_aapl).reshape((-1,1))\n",
    "cr_googl = np.array(cr_googl).reshape((-1,1))\n",
    "cr_msft = np.array(cr_msft).reshape((-1,1))\n",
    "cr_amzn = np.array(cr_amzn).reshape((-1,1))\n",
    "cr_fb = np.array(cr_fb).reshape((-1,1))\n",
    "\n",
    "cr_low = (cr_aapl+cr_fb+cr_msft)/3\n",
    "cr_high = (cr_amzn+cr_googl)/2\n",
    "print((cr_low.shape))"
   ]
  },
  {
   "cell_type": "markdown",
   "metadata": {},
   "source": [
    "## tạo dữ liệu train - test cho 1 công ty. X=5 ngày trước & sự thay đổi giữa các ngày"
   ]
  },
  {
   "cell_type": "code",
   "execution_count": 52,
   "metadata": {},
   "outputs": [],
   "source": [
    "def create_Xy(df, code, history=2):\n",
    "    '''df has index as date\n",
    "    columns are stock price of the companies\n",
    "    '''\n",
    "    cr = get_diff(df[code])\n",
    "    X1, X2, y, dates = [], [], [], []\n",
    "    for row_idx in range(history, len(df)):\n",
    "        X1.append( cr[row_idx-history:row_idx-1] )\n",
    "        X2.append( df[code].iloc[row_idx-history:row_idx].values.reshape(-1) )\n",
    "        \n",
    "        y.append( df[code].iloc[row_idx].reshape(-1) )\n",
    "        dates.append(df.index[row_idx])\n",
    "    X1, X2, y = np.array(X1), np.array(X2), np.array(y)\n",
    "    X = np.hstack((X1,X2))\n",
    "    return X, y, dates"
   ]
  },
  {
   "cell_type": "code",
   "execution_count": 53,
   "metadata": {},
   "outputs": [],
   "source": [
    "code = 'AAPL'\n",
    "X,y,dates = create_Xy(df, code, history=5)"
   ]
  },
  {
   "cell_type": "code",
   "execution_count": 54,
   "metadata": {},
   "outputs": [
    {
     "name": "stdout",
     "output_type": "stream",
     "text": [
      "(330, 9)\n",
      "(330, 1)\n"
     ]
    }
   ],
   "source": [
    "print(X.shape)\n",
    "print(y.shape)"
   ]
  },
  {
   "cell_type": "code",
   "execution_count": 55,
   "metadata": {},
   "outputs": [],
   "source": [
    "# use 7/10 of the dataset to train (use past price to predict future price)\n",
    "n_train = len(y) * 7 // 10\n",
    "X_train, y_train, dates_train, X_test, y_test, dates_test = X[:n_train], y[:n_train], dates[:n_train], X[n_train:], y[n_train:], dates[n_train:]"
   ]
  },
  {
   "cell_type": "markdown",
   "metadata": {},
   "source": [
    "## Linear Regression model"
   ]
  },
  {
   "cell_type": "code",
   "execution_count": 56,
   "metadata": {},
   "outputs": [],
   "source": [
    "clf = LinearRegression()\n",
    "clf.fit(X_train, y_train)\n",
    "ypred = clf.predict(X_test)"
   ]
  },
  {
   "cell_type": "markdown",
   "metadata": {},
   "source": [
    "## plot prediction"
   ]
  },
  {
   "cell_type": "code",
   "execution_count": 57,
   "metadata": {},
   "outputs": [
    {
     "data": {
      "image/png": "[encoded data removed]",
      "text/plain": [
       "<Figure size 1152x720 with 1 Axes>"
      ]
     },
     "metadata": {},
     "output_type": "display_data"
    }
   ],
   "source": [
    "df_plot = pd.DataFrame({\"AAPL_true\": y_test.reshape(-1)[:], 'AAPL_pred': ypred.reshape(-1)[:]}, index=dates_test[:])\n",
    "\n",
    "# Create subplots to plot graph and control axes\n",
    "fig, ax = plt.subplots(figsize=(16,10))\n",
    "sns.lineplot(data=df_plot)\n",
    "\n",
    "# Format the ticks\n",
    "loc = mdates.AutoDateLocator()\n",
    "ax.xaxis.set_major_locator(loc)\n",
    "ax.xaxis.set_major_formatter(mdates.AutoDateFormatter(loc))\n",
    "\n",
    "# Set figure title\n",
    "plt.title(code + ' stock price: True vs. Prediction', fontsize=16)\n",
    "# Set x label\n",
    "plt.xlabel('Date', fontsize=14)\n",
    "# Set y label\n",
    "plt.ylabel('Closing Stock Price in $', fontsize=14)\n",
    "\n",
    "# Rotate and align the x labels\n",
    "fig.autofmt_xdate()\n",
    "\n",
    "# Show plot\n",
    "plt.show()"
   ]
  },
  {
   "cell_type": "markdown",
   "metadata": {},
   "source": [
    "## Đánh giá kết quả:"
   ]
  },
  {
   "cell_type": "code",
   "execution_count": 58,
   "metadata": {},
   "outputs": [
    {
     "name": "stdout",
     "output_type": "stream",
     "text": [
      "AAPL 0.024700108227584734\n"
     ]
    }
   ],
   "source": [
    "from sklearn.metrics import mean_squared_error\n",
    "\n",
    "def mean_relative_error(y_true, y_pred):\n",
    "    return np.mean(np.abs((y_pred-y_true)/y_true))\n",
    "\n",
    "print(code, mean_relative_error(y_test.reshape(-1), ypred.reshape(-1)))"
   ]
  },
  {
   "cell_type": "code",
   "execution_count": 72,
   "metadata": {},
   "outputs": [
    {
     "name": "stdout",
     "output_type": "stream",
     "text": [
      "GOOGL 0.022573133118836904\n"
     ]
    }
   ],
   "source": [
    "code = 'GOOGL'\n",
    "X,y,dates = create_Xy(df, code, history=5)\n",
    "\n",
    "# use 7/10 of the dataset to train (use past price to predict future price)\n",
    "n_train = len(y) * 7 // 10\n",
    "X_train, y_train, dates_train, X_test, y_test, dates_test = X[:n_train], y[:n_train], dates[:n_train], X[n_train:], y[n_train:], dates[n_train:]\n",
    "\n",
    "clf = LinearRegression()\n",
    "clf.fit(X_train, y_train)\n",
    "ypred = clf.predict(X_test)\n",
    "\n",
    "print(code, mean_relative_error(y_test.reshape(-1), ypred.reshape(-1)))"
   ]
  },
  {
   "cell_type": "code",
   "execution_count": 71,
   "metadata": {},
   "outputs": [
    {
     "name": "stdout",
     "output_type": "stream",
     "text": [
      "MSFT 0.024505116056252222\n"
     ]
    }
   ],
   "source": [
    "code = 'MSFT'\n",
    "X,y,dates = create_Xy(df, code, history=5)\n",
    "\n",
    "# use 7/10 of the dataset to train (use past price to predict future price)\n",
    "n_train = len(y) * 7 // 10\n",
    "X_train, y_train, dates_train, X_test, y_test, dates_test = X[:n_train], y[:n_train], dates[:n_train], X[n_train:], y[n_train:], dates[n_train:]\n",
    "\n",
    "clf = LinearRegression()\n",
    "clf.fit(X_train, y_train)\n",
    "ypred = clf.predict(X_test)\n",
    "\n",
    "print(code, mean_relative_error(y_test.reshape(-1), ypred.reshape(-1)))"
   ]
  },
  {
   "cell_type": "code",
   "execution_count": 61,
   "metadata": {},
   "outputs": [
    {
     "name": "stdout",
     "output_type": "stream",
     "text": [
      "AMZN 0.01933552776497684\n"
     ]
    }
   ],
   "source": [
    "code = 'AMZN'\n",
    "X,y,dates = create_Xy(df, code, history=5)\n",
    "\n",
    "# use 7/10 of the dataset to train (use past price to predict future price)\n",
    "n_train = len(y) * 7 // 10\n",
    "X_train, y_train, dates_train, X_test, y_test, dates_test = X[:n_train], y[:n_train], dates[:n_train], X[n_train:], y[n_train:], dates[n_train:]\n",
    "\n",
    "clf = LinearRegression()\n",
    "clf.fit(X_train, y_train)\n",
    "ypred = clf.predict(X_test)\n",
    "\n",
    "def mean_relative_error(y_true, y_pred):\n",
    "    return np.mean(np.abs((y_pred-y_true)/y_true))\n",
    "\n",
    "print(code, mean_relative_error(y_test.reshape(-1), ypred.reshape(-1)))"
   ]
  },
  {
   "cell_type": "code",
   "execution_count": 70,
   "metadata": {},
   "outputs": [
    {
     "name": "stdout",
     "output_type": "stream",
     "text": [
      "FB 0.02377975770813905\n"
     ]
    }
   ],
   "source": [
    "code = 'FB'\n",
    "X,y,dates = create_Xy(df, code, history=5)\n",
    "\n",
    "# use 7/10 of the dataset to train (use past price to predict future price)\n",
    "n_train = len(y) * 7 // 10\n",
    "X_train, y_train, dates_train, X_test, y_test, dates_test = X[:n_train], y[:n_train], dates[:n_train], X[n_train:], y[n_train:], dates[n_train:]\n",
    "\n",
    "clf = LinearRegression()\n",
    "clf.fit(X_train, y_train)\n",
    "ypred = clf.predict(X_test)\n",
    "\n",
    "print(code, mean_relative_error(y_test.reshape(-1), ypred.reshape(-1)))"
   ]
  },
  {
   "cell_type": "markdown",
   "metadata": {},
   "source": [
    "## So sánh với việc chỉ lấy giá stock của 5 ngày trước: Mean relative error của Facebook bé hơn ~1.1%. Các công ty còn lại thì gần tương đương."
   ]
  },
  {
   "cell_type": "markdown",
   "metadata": {},
   "source": [
    "## fit dữ liệu của cả 5 công ty cùng lúc:"
   ]
  },
  {
   "cell_type": "code",
   "execution_count": 66,
   "metadata": {},
   "outputs": [],
   "source": [
    "def create_Xy_all(df, history=2):\n",
    "    '''df has index as date\n",
    "    columns are stock price of the companies\n",
    "    '''\n",
    "    cr = get_diff(df)\n",
    "\n",
    "    X1, X2, y, dates = [], [], [], []\n",
    "    for row_idx in range(history, len(df)):\n",
    "        X1.append( cr[row_idx-history:row_idx-1, :].reshape(-1) )\n",
    "        X2.append( df.iloc[row_idx-history:row_idx, :].values.reshape(-1) )\n",
    "        \n",
    "        y.append( df.iloc[row_idx,:].values.reshape(-1) )\n",
    "        dates.append(df.index[row_idx])\n",
    "    X1, X2, y = np.array(X1), np.array(X2), np.array(y)\n",
    "    X = np.hstack((X1,X2))\n",
    "    return X, y, dates"
   ]
  },
  {
   "cell_type": "code",
   "execution_count": 78,
   "metadata": {},
   "outputs": [
    {
     "name": "stdout",
     "output_type": "stream",
     "text": [
      "(330, 45)\n",
      "(330, 5)\n"
     ]
    }
   ],
   "source": [
    "X, y, dates = create_Xy_all(df, history=5)\n",
    "print(X.shape)\n",
    "print(y.shape)"
   ]
  },
  {
   "cell_type": "code",
   "execution_count": 79,
   "metadata": {},
   "outputs": [],
   "source": [
    "# use 7/10 of the dataset to train (use past price to predict future price)\n",
    "n_train = len(y) * 7 // 10\n",
    "X_train, y_train, dates_train, X_test, y_test, dates_test = X[:n_train], y[:n_train], dates[:n_train], X[n_train:], y[n_train:], dates[n_train:]"
   ]
  },
  {
   "cell_type": "code",
   "execution_count": 81,
   "metadata": {},
   "outputs": [
    {
     "name": "stdout",
     "output_type": "stream",
     "text": [
      "AAPL 0.023751767727776246\n",
      "GOOGL 0.02242385214740589\n",
      "MSFT 0.025059218057111983\n",
      "AMZN 0.018868067570525088\n",
      "FB 0.03552132412974315\n"
     ]
    }
   ],
   "source": [
    "clf = LinearRegression()\n",
    "clf.fit(X_train, y_train)\n",
    "ypred = clf.predict(X_test)\n",
    "\n",
    "\n",
    "for i in range(5):\n",
    "    print(df.columns[i], mean_relative_error(y_test[:,i], ypred[:,i]))"
   ]
  },
  {
   "cell_type": "code",
   "execution_count": null,
   "metadata": {},
   "outputs": [],
   "source": []
  }
 ],
 "metadata": {
  "kernelspec": {
   "display_name": "Python 3",
   "language": "python",
   "name": "python3"
  },
  "language_info": {
   "codemirror_mode": {
    "name": "ipython",
    "version": 3
   },
   "file_extension": ".py",
   "mimetype": "text/x-python",
   "name": "python",
   "nbconvert_exporter": "python",
   "pygments_lexer": "ipython3",
   "version": "3.7.6"
  }
 },
 "nbformat": 4,
 "nbformat_minor": 4
}
